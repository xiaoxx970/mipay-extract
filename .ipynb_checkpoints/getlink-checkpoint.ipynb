{
 "cells": [
  {
   "cell_type": "code",
   "execution_count": 8,
   "metadata": {},
   "outputs": [],
   "source": [
    "import AdvancedHTMLParser\n",
    "import urllib\n",
    "\n",
    "try:\n",
    "    content = urllib.urlopen(\"http://www.miui.com/download-330.html\").read()\n",
    "except:\n",
    "    import urllib.request\n",
    "    content = urllib.request.urlopen(\"http://www.miui.com/download-330.html\").read()\n",
    "parser = AdvancedHTMLParser.AdvancedHTMLParser()\n",
    "parser.parseStr(content)\n",
    "link_cn = parser.getElementsByClassName(\"to_miroute\").getElementsByTagName(\"a\")[1].getAttribute(\"href\")\n",
    "ver = link_cn.split('/')[3]\n",
    "link_eu = 'https://sourceforge.net/projects/xiaomi-eu-multilang-miui-roms/files/xiaomi.eu/MIUI-WEEKLY-RELEASES/'+ver+'/xiaomi.eu_multi_MI6_'+ver+'_v10-9.zip/download?use_mirror=netcologne'\n",
    "\n",
    "data = ''\n",
    "with open('deploy.sh', 'r+') as f:\n",
    "    for line in f.readlines():\n",
    "        if(line.find('declare -a urls') == 0):\n",
    "            line = \"declare -a urls=('\" + link_cn + \"')\\n\"\n",
    "        if(line.find('declare -a eu_urls') == 0):\n",
    "            line = \"declare -a eu_urls=('\" + link_eu + \"')\\n\"\n",
    "        if(line.find('EU_VER=') == 0):\n",
    "            line = 'EU_VER=' + ver + '\\n'\n",
    "        data += line\n",
    "        \n",
    "with open('deploy.sh', 'r+') as f:\n",
    "    f.writelines(data)"
   ]
  }
 ],
 "metadata": {
  "kernelspec": {
   "display_name": "Python 3",
   "language": "python",
   "name": "python3"
  },
  "language_info": {
   "codemirror_mode": {
    "name": "ipython",
    "version": 3
   },
   "file_extension": ".py",
   "mimetype": "text/x-python",
   "name": "python",
   "nbconvert_exporter": "python",
   "pygments_lexer": "ipython3",
   "version": "3.7.0"
  }
 },
 "nbformat": 4,
 "nbformat_minor": 2
}
